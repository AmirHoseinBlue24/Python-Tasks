{
 "cells": [
  {
   "cell_type": "code",
   "execution_count": 26,
   "id": "7a51e1f9",
   "metadata": {},
   "outputs": [],
   "source": [
    "t = open(\"./Text.txt\", \"w\")\n",
    "t.write(\"Hello\\n\")\n",
    "t.write(\"Hi\")\n",
    "t.close()"
   ]
  },
  {
   "cell_type": "code",
   "execution_count": 24,
   "id": "b19ad5f5",
   "metadata": {},
   "outputs": [
    {
     "name": "stdout",
     "output_type": "stream",
     "text": [
      "Hello\n",
      "Hi\n"
     ]
    }
   ],
   "source": [
    "t = open('./Text.txt')\n",
    "line = t.read(10)\n",
    "print(line)\n",
    "t.close()"
   ]
  },
  {
   "cell_type": "code",
   "execution_count": 21,
   "id": "ebac8094",
   "metadata": {},
   "outputs": [
    {
     "name": "stdout",
     "output_type": "stream",
     "text": [
      "['Hello\\n', 'Hi']\n"
     ]
    }
   ],
   "source": [
    "t = open('./Text.txt')\n",
    "line = t.readlines(0)\n",
    "print(line)\n",
    "t.close()"
   ]
  },
  {
   "cell_type": "code",
   "execution_count": 25,
   "id": "83b6b3d4",
   "metadata": {},
   "outputs": [],
   "source": [
    "import os\n",
    "\n",
    "os.remove('Text.txt')"
   ]
  },
  {
   "cell_type": "code",
   "execution_count": 41,
   "id": "f0823f7f",
   "metadata": {},
   "outputs": [
    {
     "name": "stdout",
     "output_type": "stream",
     "text": [
      "Text: python is the best program language of the world. python have a lot of mehods can help you\n",
      "{'python': 2, 'is': 1, 'the': 2, 'best': 1, 'program': 1, 'language': 1, 'of': 2, 'world.': 1, 'have': 1, 'a': 1, 'lot': 1, 'mehods': 1, 'can': 1, 'help': 1, 'you': 1}\n"
     ]
    }
   ],
   "source": [
    "s = open('./Test.txt', 'r')\n",
    "i = s.read()\n",
    "l = i.split()\n",
    "n = 0\n",
    "d = {}\n",
    "print(f'Text: {i}')\n",
    "\n",
    "for x in l:\n",
    "    if x not in d:\n",
    "        d[x] = 1\n",
    "    else:\n",
    "        d[x] += 1\n",
    "\n",
    "print(d)"
   ]
  }
 ],
 "metadata": {
  "kernelspec": {
   "display_name": "Python 3",
   "language": "python",
   "name": "python3"
  },
  "language_info": {
   "codemirror_mode": {
    "name": "ipython",
    "version": 3
   },
   "file_extension": ".py",
   "mimetype": "text/x-python",
   "name": "python",
   "nbconvert_exporter": "python",
   "pygments_lexer": "ipython3",
   "version": "3.13.3"
  }
 },
 "nbformat": 4,
 "nbformat_minor": 5
}
