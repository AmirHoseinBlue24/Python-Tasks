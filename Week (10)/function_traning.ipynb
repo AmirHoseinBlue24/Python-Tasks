{
 "cells": [
  {
   "cell_type": "markdown",
   "id": "1cc7d8ad",
   "metadata": {},
   "source": [
    "**T13**"
   ]
  },
  {
   "cell_type": "code",
   "execution_count": 17,
   "id": "c96c1895",
   "metadata": {},
   "outputs": [
    {
     "name": "stdout",
     "output_type": "stream",
     "text": [
      "Prime\n",
      "Not Prime\n"
     ]
    }
   ],
   "source": [
    "def prime(n):\n",
    "    for i in range(2, n):\n",
    "        if n % i == 0:\n",
    "            return \"Not Prime\"\n",
    "    return \"Prime\"\n",
    "\n",
    "\n",
    "print(prime(13))\n",
    "print(prime(12))"
   ]
  },
  {
   "cell_type": "markdown",
   "id": "8fef42b9",
   "metadata": {},
   "source": [
    "**T14**"
   ]
  },
  {
   "cell_type": "code",
   "execution_count": 19,
   "id": "355fd5a6",
   "metadata": {},
   "outputs": [
    {
     "name": "stdout",
     "output_type": "stream",
     "text": [
      "Perfect\n",
      "Not Perfect\n"
     ]
    }
   ],
   "source": [
    "def perfect(n):\n",
    "    total = 0\n",
    "    for i in range(1, n):\n",
    "        if n % i == 0:\n",
    "            total += i\n",
    "    if total == n:\n",
    "        return \"Perfect\"\n",
    "    else:\n",
    "        return \"Not Perfect\"\n",
    "\n",
    "print(perfect(28))\n",
    "print(perfect(14))"
   ]
  },
  {
   "cell_type": "markdown",
   "id": "4314efa4",
   "metadata": {},
   "source": [
    "**T15**"
   ]
  },
  {
   "cell_type": "code",
   "execution_count": 20,
   "id": "95acd7df",
   "metadata": {},
   "outputs": [
    {
     "name": "stdout",
     "output_type": "stream",
     "text": [
      "Palindrome\n",
      "Not Palindrome\n"
     ]
    }
   ],
   "source": [
    "def palindrome(n):\n",
    "    s = str(n)\n",
    "    if s == s[::-1]:\n",
    "        return \"Palindrome\"\n",
    "    else:\n",
    "        return \"Not Palindrome\"\n",
    "\n",
    "\n",
    "print(palindrome(121)) \n",
    "print(palindrome(123))"
   ]
  },
  {
   "cell_type": "markdown",
   "id": "d9e15dcb",
   "metadata": {},
   "source": [
    "**T16**"
   ]
  },
  {
   "cell_type": "code",
   "execution_count": 3,
   "id": "e35b6657",
   "metadata": {},
   "outputs": [
    {
     "name": "stdout",
     "output_type": "stream",
     "text": [
      "120\n"
     ]
    }
   ],
   "source": [
    "import math\n",
    "\n",
    "def factorial(n):\n",
    "    return math.factorial(n)\n",
    "\n",
    "\n",
    "print(factorial(5))"
   ]
  },
  {
   "cell_type": "markdown",
   "id": "62461869",
   "metadata": {},
   "source": [
    "**T17**"
   ]
  },
  {
   "cell_type": "code",
   "execution_count": 1,
   "id": "c41a23eb",
   "metadata": {},
   "outputs": [
    {
     "name": "stdout",
     "output_type": "stream",
     "text": [
      "10\n"
     ]
    }
   ],
   "source": [
    "def sum(n):\n",
    "    total = 0\n",
    "    for digit in str(n):\n",
    "        total += int(digit)\n",
    "    return total\n",
    "\n",
    "print(sum(1234))"
   ]
  },
  {
   "cell_type": "markdown",
   "id": "d5020cf2",
   "metadata": {},
   "source": [
    "**T18**"
   ]
  },
  {
   "cell_type": "code",
   "execution_count": null,
   "id": "be0ea230",
   "metadata": {},
   "outputs": [
    {
     "name": "stdout",
     "output_type": "stream",
     "text": [
      "5\n"
     ]
    }
   ],
   "source": [
    "def count(n):\n",
    "    return len(str(n))\n",
    "\n",
    "print(count(12345))"
   ]
  },
  {
   "cell_type": "markdown",
   "id": "7be3d5b3",
   "metadata": {},
   "source": [
    "**T19**"
   ]
  },
  {
   "cell_type": "code",
   "execution_count": 13,
   "id": "f995934a",
   "metadata": {},
   "outputs": [
    {
     "name": "stdout",
     "output_type": "stream",
     "text": [
      "321\n"
     ]
    }
   ],
   "source": [
    "def reverse(n):\n",
    "    return int(str(n)[::-1])\n",
    "\n",
    "print(reverse(123))"
   ]
  },
  {
   "cell_type": "markdown",
   "id": "3ef0c4c6",
   "metadata": {},
   "source": [
    "**20**"
   ]
  },
  {
   "cell_type": "code",
   "execution_count": null,
   "id": "52528e9d",
   "metadata": {},
   "outputs": [
    {
     "name": "stdout",
     "output_type": "stream",
     "text": [
      "Armstrong\n",
      "Not Armstrong\n"
     ]
    }
   ],
   "source": [
    "def armstrong(n):\n",
    "    digits = str(n)\n",
    "    power = len(digits)\n",
    "    total = 0\n",
    "    for d in digits:\n",
    "        total += int(d) ** power\n",
    "    if total == n:\n",
    "        return \"Armstrong\"\n",
    "    else:\n",
    "        return \"Not Armstrong\"\n",
    "\n",
    "print(armstrong(153))\n",
    "print(armstrong(120))"
   ]
  }
 ],
 "metadata": {
  "kernelspec": {
   "display_name": "Python 3",
   "language": "python",
   "name": "python3"
  },
  "language_info": {
   "codemirror_mode": {
    "name": "ipython",
    "version": 3
   },
   "file_extension": ".py",
   "mimetype": "text/x-python",
   "name": "python",
   "nbconvert_exporter": "python",
   "pygments_lexer": "ipython3",
   "version": "3.11.5"
  }
 },
 "nbformat": 4,
 "nbformat_minor": 5
}
