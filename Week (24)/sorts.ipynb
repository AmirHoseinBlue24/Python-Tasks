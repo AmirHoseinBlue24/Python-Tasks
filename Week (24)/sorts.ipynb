{
 "cells": [
  {
   "cell_type": "code",
   "execution_count": null,
   "id": "50730157",
   "metadata": {},
   "outputs": [
    {
     "data": {
      "text/plain": [
       "51090942171709440000"
      ]
     },
     "execution_count": 15,
     "metadata": {},
     "output_type": "execute_result"
    }
   ],
   "source": [
    "def fact(n):\n",
    "    m = 1\n",
    "\n",
    "    if n == 0 or n == 1:\n",
    "        print(1)\n",
    "    else:\n",
    "        for i in range(1, n+1):\n",
    "            m *= i\n",
    "        return(m)\n",
    "\n",
    "fact(21)\n",
    "\n",
    "# 21! = 21*20*19*...*1"
   ]
  },
  {
   "cell_type": "code",
   "execution_count": 19,
   "id": "f8695fd9",
   "metadata": {},
   "outputs": [
    {
     "name": "stdout",
     "output_type": "stream",
     "text": [
      "2\n"
     ]
    }
   ],
   "source": [
    "#Constant Time\n",
    "#O(1)\n",
    "def get_first(arr):\n",
    "    return arr[0]\n",
    "print(get_first([2, 3, 1, 4]))"
   ]
  },
  {
   "cell_type": "code",
   "execution_count": 20,
   "id": "cd1499fa",
   "metadata": {},
   "outputs": [
    {
     "name": "stdout",
     "output_type": "stream",
     "text": [
      "Banana\n",
      "Apple\n",
      "Orange\n"
     ]
    }
   ],
   "source": [
    "#Linear Time\n",
    "#O(n)\n",
    "def print_all(arr):\n",
    "    for item in arr:\n",
    "        print(item)\n",
    "print_all([\"Banana\", \"Apple\", \"Orange\"])"
   ]
  },
  {
   "cell_type": "code",
   "execution_count": null,
   "id": "d717fc32",
   "metadata": {},
   "outputs": [
    {
     "name": "stdout",
     "output_type": "stream",
     "text": [
      "1 1 1\n",
      "1 1 4\n",
      "1 1 6\n",
      "1 4 1\n",
      "1 4 4\n",
      "1 4 6\n",
      "1 6 1\n",
      "1 6 4\n",
      "1 6 6\n",
      "4 1 1\n",
      "4 1 4\n",
      "4 1 6\n",
      "4 4 1\n",
      "4 4 4\n",
      "4 4 6\n",
      "4 6 1\n",
      "4 6 4\n",
      "4 6 6\n",
      "6 1 1\n",
      "6 1 4\n",
      "6 1 6\n",
      "6 4 1\n",
      "6 4 4\n",
      "6 4 6\n",
      "6 6 1\n",
      "6 6 4\n",
      "6 6 6\n",
      "28\n"
     ]
    }
   ],
   "source": [
    "#Quadratic Time\n",
    "#O(n^2)\n",
    "def print_pairs(arr):\n",
    "    count = 1\n",
    "    for i in arr:\n",
    "        for j in arr:\n",
    "            for l in arr:\n",
    "                count += 1\n",
    "                print(i, j, l)\n",
    "    print(count)\n",
    "print_pairs([1, 4, 6])\n"
   ]
  },
  {
   "cell_type": "code",
   "execution_count": 37,
   "id": "f32d5c0a",
   "metadata": {},
   "outputs": [
    {
     "name": "stdout",
     "output_type": "stream",
     "text": [
      "[1, 2, 3, 4, 5, 6, 7, 8, 9, 10, 11, 12, 13, 14, 15, 16, 17, 18, 19, 20, 21, 22, 23, 24, 25, 26, 27, 28, 29, 30, 31, 32, 33, 34, 35, 36, 37, 38, 39, 40, 41, 42, 43, 44, 45, 46, 47, 48, 49, 50, 51, 52, 53, 54, 55, 56, 57, 58, 59, 60, 61, 62, 63, 64, 65, 66, 67, 68, 69, 70, 71, 72, 73, 74, 75, 76, 77, 78, 79, 80, 81, 82, 83, 84, 85, 86, 87, 88, 89, 90, 91, 92, 93, 94, 95, 96, 97, 98, 99, 100]\n",
      "58\n"
     ]
    }
   ],
   "source": [
    "#O(log n)\n",
    "def binary_search(arr, target):\n",
    "    left, right = 0, len(arr) - 1\n",
    "    while left <= right:\n",
    "        mid = (left + right) // 2\n",
    "        if arr[mid] == target:\n",
    "            return mid\n",
    "        elif arr[mid] < target:\n",
    "            left = mid + 1\n",
    "        else:\n",
    "            right = mid - 1\n",
    "    return -1\n",
    "\n",
    "lst = list(range(1, 101))\n",
    "print(lst)\n",
    "print(binary_search(lst, 59))"
   ]
  },
  {
   "cell_type": "code",
   "execution_count": 15,
   "id": "36553577",
   "metadata": {},
   "outputs": [
    {
     "name": "stdout",
     "output_type": "stream",
     "text": [
      "[1, 2, 5, 6]\n"
     ]
    }
   ],
   "source": [
    "def bubble(lst):\n",
    "    n = len(lst)-1\n",
    "    for j in range(0, n):\n",
    "        for i in range(0, n-j):\n",
    "            if lst[i] > lst[i+1]:\n",
    "                lst[i], lst[i+1] = lst[i+1], lst[i]\n",
    "    print(lst)\n",
    "\n",
    "bubble([5, 6, 2, 1])"
   ]
  }
 ],
 "metadata": {
  "kernelspec": {
   "display_name": "Python 3",
   "language": "python",
   "name": "python3"
  },
  "language_info": {
   "codemirror_mode": {
    "name": "ipython",
    "version": 3
   },
   "file_extension": ".py",
   "mimetype": "text/x-python",
   "name": "python",
   "nbconvert_exporter": "python",
   "pygments_lexer": "ipython3",
   "version": "3.13.3"
  }
 },
 "nbformat": 4,
 "nbformat_minor": 5
}
