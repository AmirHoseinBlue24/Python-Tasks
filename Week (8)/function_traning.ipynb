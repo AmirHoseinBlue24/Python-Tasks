{
 "cells": [
  {
   "cell_type": "markdown",
   "metadata": {},
   "source": [
    "**T6**"
   ]
  },
  {
   "cell_type": "code",
   "execution_count": null,
   "metadata": {},
   "outputs": [
    {
     "name": "stdout",
     "output_type": "stream",
     "text": [
      "pon\n"
     ]
    }
   ],
   "source": [
    "def remove_index(text, start, end):\n",
    "    return text[:start] + text[end+1:]\n",
    "    \n",
    "print(remove_index('python', 1, 3))"
   ]
  },
  {
   "cell_type": "code",
   "execution_count": 5,
   "metadata": {},
   "outputs": [
    {
     "name": "stdout",
     "output_type": "stream",
     "text": [
      "pto\n"
     ]
    }
   ],
   "source": [
    "def even_index(text):\n",
    "    return text[::2]\n",
    "\n",
    "x = even_index('python')\n",
    "print(x)"
   ]
  },
  {
   "cell_type": "markdown",
   "metadata": {},
   "source": [
    "**تحلیل کد**"
   ]
  },
  {
   "cell_type": "code",
   "execution_count": null,
   "metadata": {},
   "outputs": [],
   "source": [
    "# ایجاد فانکشن\n",
    "def  f(s):\n",
    "    # مقدار\n",
    "    w =' '\n",
    "    lst =[]\n",
    "    #تعریف حلقه بر روی طول رشته\n",
    "    for i in range(0,len(s)):\n",
    "        # برای جداسازی کلمات مثل اسپلیت\n",
    "        if(s[i] != ' '):\n",
    "             w += s[i]\n",
    "        else:\n",
    "             lst.append(w)\n",
    "             w = ''\n",
    "    # بررسی طولانی ترین کلمه\n",
    "    m = lst[0]\n",
    "    for j in range(0,len(lst)):\n",
    "        if (len(lst[j]) > len(m)):\n",
    "            m = lst[j]\n",
    "    return m            \n",
    "           \n",
    "s = 'python is an interpreted language.'\n",
    "print(f(s))      # interpreted "
   ]
  }
 ],
 "metadata": {
  "kernelspec": {
   "display_name": ".venv",
   "language": "python",
   "name": "python3"
  },
  "language_info": {
   "codemirror_mode": {
    "name": "ipython",
    "version": 3
   },
   "file_extension": ".py",
   "mimetype": "text/x-python",
   "name": "python",
   "nbconvert_exporter": "python",
   "pygments_lexer": "ipython3",
   "version": "3.11.5"
  }
 },
 "nbformat": 4,
 "nbformat_minor": 2
}
