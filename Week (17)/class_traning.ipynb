{
 "cells": [
  {
   "cell_type": "code",
   "execution_count": 3,
   "id": "01c901e6",
   "metadata": {},
   "outputs": [
    {
     "name": "stdout",
     "output_type": "stream",
     "text": [
      "Pay sum: 30500000 toman\n"
     ]
    }
   ],
   "source": [
    "class Cart:\n",
    "    def __init__(self):\n",
    "        self.items = []\n",
    "    def add_item(self, item, quantity, price):\n",
    "        self.items.append((item, quantity, price))\n",
    "    def total_price(self):\n",
    "        total = 0\n",
    "        for item in self.items:\n",
    "            total += item[1] * item[2]\n",
    "        return f'Pay sum: {total} toman'\n",
    "    \n",
    "cart1 = Cart()\n",
    "cart1.add_item(\"Laptop\", 2, 15000000)\n",
    "cart1.add_item(\"Mouse\", 1, 500000)\n",
    "print(cart1.total_price())"
   ]
  },
  {
   "cell_type": "code",
   "execution_count": null,
   "id": "5e1604a8",
   "metadata": {},
   "outputs": [
    {
     "data": {
      "text/plain": [
       "'Success'"
      ]
     },
     "execution_count": 5,
     "metadata": {},
     "output_type": "execute_result"
    }
   ],
   "source": [
    "class Auth:\n",
    "    def __init__(self):\n",
    "        self.users = {'ali123':'securePass!'}\n",
    "    def login(self,username,password):\n",
    "        if username in self.users and self.users[username] == password:\n",
    "            return 'Success'\n",
    "        else:\n",
    "            return 'Failure'\n",
    "\n",
    "auth = Auth()\n",
    "auth.login('ali123','securePass!')"
   ]
  },
  {
   "cell_type": "code",
   "execution_count": 3,
   "id": "5ad95bf0",
   "metadata": {},
   "outputs": [
    {
     "data": {
      "text/plain": [
       "'Ticket is reserved'"
      ]
     },
     "execution_count": 3,
     "metadata": {},
     "output_type": "execute_result"
    }
   ],
   "source": [
    "class Seats:\n",
    "    def __init__(self, film, seat):\n",
    "        self.seat = seat\n",
    "        self.film = film\n",
    "    def reserve_seat(self, req_film, req_seat):\n",
    "        if self.film == req_film and self.seat >= req_seat:\n",
    "            return \"Ticket is reserved\"\n",
    "        else:\n",
    "            return \"unavailable seat or film\"\n",
    "        \n",
    "film1 = Seats(\"Oppenheimer\", 10)\n",
    "film1.reserve_seat(\"Oppenheimer\", 3)"
   ]
  },
  {
   "cell_type": "code",
   "execution_count": 5,
   "id": "51c8af99",
   "metadata": {},
   "outputs": [
    {
     "data": {
      "text/plain": [
       "'done, your balance is 1500000'"
      ]
     },
     "execution_count": 5,
     "metadata": {},
     "output_type": "execute_result"
    }
   ],
   "source": [
    "class Bank:\n",
    "    def __init__(self, name, balance):\n",
    "        self.name = name\n",
    "        self.balance = balance\n",
    "    def deposit(self, amount):\n",
    "        self.balance += amount\n",
    "        return f'done, your balance is {self.balance}'\n",
    "    def cashout(self, amount):\n",
    "        if amount > self.balance:\n",
    "            print(\"Insufficient funds\")\n",
    "        else:\n",
    "            self.balance -= amount\n",
    "            print(f'done, your balance is {self.balance}')\n",
    "Acc = Bank(\"Amir\", 1000000)\n",
    "Acc.deposit(500000)"
   ]
  },
  {
   "cell_type": "code",
   "execution_count": 6,
   "id": "d16d65a0",
   "metadata": {},
   "outputs": [
    {
     "name": "stdout",
     "output_type": "stream",
     "text": [
      "37.0\n"
     ]
    }
   ],
   "source": [
    "class Convertor:\n",
    "    def __init__(self, value):\n",
    "        self.value = value\n",
    "    def farenhiet_to_celcius(self):\n",
    "        return (self.value - 32) * 5/9\n",
    "    def celcius_to_farenhiet(self):\n",
    "        return (self.value * 9/5) + 32\n",
    "    \n",
    "Temp = Convertor(98.6)\n",
    "print(Temp.farenhiet_to_celcius())"
   ]
  },
  {
   "cell_type": "code",
   "execution_count": 1,
   "id": "1e0a3655",
   "metadata": {},
   "outputs": [
    {
     "name": "stdout",
     "output_type": "stream",
     "text": [
      "17.5\n"
     ]
    }
   ],
   "source": [
    "class Mark:\n",
    "    def __init__(self,grades=list):\n",
    "        self.grades = grades\n",
    "    def average(self):\n",
    "        return sum(self.grades) / len(self.grades)\n",
    "\n",
    "grades = Mark([18, 20, 15, 17])\n",
    "print(grades.average())"
   ]
  }
 ],
 "metadata": {
  "kernelspec": {
   "display_name": "Python 3",
   "language": "python",
   "name": "python3"
  },
  "language_info": {
   "codemirror_mode": {
    "name": "ipython",
    "version": 3
   },
   "file_extension": ".py",
   "mimetype": "text/x-python",
   "name": "python",
   "nbconvert_exporter": "python",
   "pygments_lexer": "ipython3",
   "version": "3.13.3"
  }
 },
 "nbformat": 4,
 "nbformat_minor": 5
}
