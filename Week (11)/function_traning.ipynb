{
 "cells": [
  {
   "cell_type": "markdown",
   "id": "bb636b26",
   "metadata": {},
   "source": [
    "**T21**"
   ]
  },
  {
   "cell_type": "code",
   "execution_count": null,
   "id": "a2325f6c",
   "metadata": {},
   "outputs": [
    {
     "name": "stdout",
     "output_type": "stream",
     "text": [
      "[3, 4, 5, 5, 5, 6, 6, 7, 7, 7, 7, 7]\n"
     ]
    }
   ],
   "source": [
    "lst = [2, 3, 4, 5, 6, 7]\n",
    "\n",
    "def prime_list(l):\n",
    "    result = []\n",
    "    for n in l:\n",
    "        for i in range(2, int(n)):\n",
    "            if n % i == 0:\n",
    "                break\n",
    "        else:\n",
    "            result.append(n)\n",
    "    return result\n",
    "\n",
    "print(prime_list(lst))\n"
   ]
  },
  {
   "cell_type": "markdown",
   "id": "8021d433",
   "metadata": {},
   "source": [
    "**T22**"
   ]
  },
  {
   "cell_type": "code",
   "execution_count": 19,
   "id": "a39f5a90",
   "metadata": {},
   "outputs": [
    {
     "name": "stdout",
     "output_type": "stream",
     "text": [
      "['121', '131']\n"
     ]
    }
   ],
   "source": [
    "lst = [121, 123, 131, 456]\n",
    "\n",
    "def palindrome_list(l):\n",
    "    result = []\n",
    "    for i in l:\n",
    "        s = str(i)\n",
    "        if s == s[::-1]:\n",
    "            result.append(s)\n",
    "    return result\n",
    "\n",
    "print(palindrome_list(lst))"
   ]
  },
  {
   "cell_type": "markdown",
   "id": "bb86ee09",
   "metadata": {},
   "source": [
    "**T23**"
   ]
  },
  {
   "cell_type": "code",
   "execution_count": 27,
   "id": "9ddcd64a",
   "metadata": {},
   "outputs": [
    {
     "name": "stdout",
     "output_type": "stream",
     "text": [
      "[153, 370, 371]\n"
     ]
    }
   ],
   "source": [
    "lst = [153, 370, 371, 123]\n",
    "\n",
    "def armstrong_list(l):\n",
    "    result = []\n",
    "    for i in l:\n",
    "        digit = str(i)\n",
    "        power = len(digit)\n",
    "        total = sum(int(d) ** power for d in digit)\n",
    "        if total == i:\n",
    "            result.append(i)\n",
    "    return result\n",
    "\n",
    "print(armstrong_list(lst))"
   ]
  },
  {
   "cell_type": "markdown",
   "id": "b8523ebb",
   "metadata": {},
   "source": [
    "**T24**"
   ]
  },
  {
   "cell_type": "code",
   "execution_count": null,
   "id": "ce14f4fa",
   "metadata": {},
   "outputs": [
    {
     "name": "stdout",
     "output_type": "stream",
     "text": [
      "[6, 28, 496]\n"
     ]
    }
   ],
   "source": [
    "lst = [6, 28, 12, 496]\n",
    "\n",
    "def perfect_number(l):\n",
    "    result = []\n",
    "    for i in l:\n",
    "        total = 0\n",
    "        for x in range(1, i):\n",
    "            if i % x == 0:\n",
    "                total += x\n",
    "        if total == i:\n",
    "            result.append(i)\n",
    "    return result\n",
    "\n",
    "print(perfect_number(lst))"
   ]
  },
  {
   "cell_type": "markdown",
   "id": "175742f8",
   "metadata": {},
   "source": [
    "**T25**"
   ]
  },
  {
   "cell_type": "code",
   "execution_count": null,
   "id": "cb11644f",
   "metadata": {},
   "outputs": [
    {
     "name": "stdout",
     "output_type": "stream",
     "text": [
      "[2, 4]\n"
     ]
    }
   ],
   "source": [
    "lst = [1, 2, 2, 3, 4, 4, 5]\n",
    "\n",
    "def number(l):\n",
    "    result = []\n",
    "    for i in l:\n",
    "        if l.count(i) > 1:\n",
    "            result.append(i)\n",
    "    return list(set(result))\n",
    "\n",
    "print(number(lst))"
   ]
  },
  {
   "cell_type": "markdown",
   "id": "13e60fa7",
   "metadata": {},
   "source": [
    "**T26**"
   ]
  },
  {
   "cell_type": "code",
   "execution_count": 41,
   "id": "d51fd1bb",
   "metadata": {},
   "outputs": [
    {
     "name": "stdout",
     "output_type": "stream",
     "text": [
      "[-2, -4]\n"
     ]
    }
   ],
   "source": [
    "lst = [1, -2, 3, -4]\n",
    "\n",
    "def negetive_list(l):\n",
    "    result = []\n",
    "    for i in l:\n",
    "        if i < 0:\n",
    "            result.append(i)\n",
    "    return result\n",
    "\n",
    "print(negetive_list(lst))"
   ]
  },
  {
   "cell_type": "markdown",
   "id": "298f610c",
   "metadata": {},
   "source": [
    "**T27**"
   ]
  },
  {
   "cell_type": "code",
   "execution_count": 42,
   "id": "32ea8db7",
   "metadata": {},
   "outputs": [
    {
     "name": "stdout",
     "output_type": "stream",
     "text": [
      "[2, 4, 6]\n"
     ]
    }
   ],
   "source": [
    "lst = [1, 2, 3, 4, 5, 6]\n",
    "\n",
    "def oven_list(l):\n",
    "    result = []\n",
    "    for i in l:\n",
    "        if i % 2 == 0:\n",
    "            result.append(i)\n",
    "    return result\n",
    "\n",
    "print(oven_list(lst))"
   ]
  },
  {
   "cell_type": "markdown",
   "id": "158697be",
   "metadata": {},
   "source": [
    "**T28**"
   ]
  },
  {
   "cell_type": "code",
   "execution_count": 43,
   "id": "5813c749",
   "metadata": {},
   "outputs": [
    {
     "name": "stdout",
     "output_type": "stream",
     "text": [
      "[1, 3, 5]\n"
     ]
    }
   ],
   "source": [
    "lst = [1, 2, 3, 4, 5, 6]\n",
    "\n",
    "def odd_list(l):\n",
    "    result = []\n",
    "    for i in l:\n",
    "        if not i % 2 == 0:\n",
    "            result.append(i)\n",
    "    return result\n",
    "\n",
    "print(odd_list(lst))"
   ]
  },
  {
   "cell_type": "markdown",
   "id": "03620e39",
   "metadata": {},
   "source": [
    "**T29**"
   ]
  },
  {
   "cell_type": "code",
   "execution_count": 44,
   "id": "e5aa6f47",
   "metadata": {},
   "outputs": [
    {
     "name": "stdout",
     "output_type": "stream",
     "text": [
      "[100, 123]\n"
     ]
    }
   ],
   "source": [
    "lst = [100, 99, 1000, 123, 4567]\n",
    "\n",
    "def digit_three(l):\n",
    "    result = []\n",
    "    for i in l:\n",
    "        if len(str(i)) == 3:\n",
    "            result.append(i)\n",
    "    return result\n",
    "\n",
    "print(digit_three(lst))"
   ]
  },
  {
   "cell_type": "markdown",
   "id": "2cc16364",
   "metadata": {},
   "source": [
    "**T30**"
   ]
  },
  {
   "cell_type": "code",
   "execution_count": 46,
   "id": "a9709298",
   "metadata": {},
   "outputs": [
    {
     "name": "stdout",
     "output_type": "stream",
     "text": [
      "[1000, 1234, 4567]\n"
     ]
    }
   ],
   "source": [
    "lst = [100, 99, 1000, 1234, 4567]\n",
    "\n",
    "def digit_four(l):\n",
    "    result = []\n",
    "    for i in l:\n",
    "        if len(str(i)) == 4:\n",
    "            result.append(i)\n",
    "    return result\n",
    "\n",
    "print(digit_four(lst))"
   ]
  }
 ],
 "metadata": {
  "kernelspec": {
   "display_name": "new_venv",
   "language": "python",
   "name": "python3"
  },
  "language_info": {
   "codemirror_mode": {
    "name": "ipython",
    "version": 3
   },
   "file_extension": ".py",
   "mimetype": "text/x-python",
   "name": "python",
   "nbconvert_exporter": "python",
   "pygments_lexer": "ipython3",
   "version": "3.12.3"
  }
 },
 "nbformat": 4,
 "nbformat_minor": 5
}
