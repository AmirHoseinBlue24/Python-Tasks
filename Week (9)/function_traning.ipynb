{
 "cells": [
  {
   "cell_type": "markdown",
   "metadata": {},
   "source": [
    "**T1**"
   ]
  },
  {
   "cell_type": "code",
   "execution_count": 12,
   "metadata": {},
   "outputs": [
    {
     "name": "stdout",
     "output_type": "stream",
     "text": [
      "12\n"
     ]
    }
   ],
   "source": [
    "lst = [1 ,2 ,3 ,4 ,5 ,6]\n",
    "\n",
    "def sum_oven():\n",
    "    oven = []\n",
    "    for i in lst:\n",
    "        if i % 2 == 0:\n",
    "            oven.append(i)\n",
    "    return sum(oven)\n",
    "\n",
    "print(sum_oven())"
   ]
  },
  {
   "cell_type": "markdown",
   "metadata": {},
   "source": [
    "**T2**"
   ]
  },
  {
   "cell_type": "code",
   "execution_count": 15,
   "metadata": {},
   "outputs": [
    {
     "name": "stdout",
     "output_type": "stream",
     "text": [
      "3\n"
     ]
    }
   ],
   "source": [
    "lst = [1 ,2 ,3 ,4 ,5 ,6]\n",
    "\n",
    "def len_odd():\n",
    "    odd = []\n",
    "    for i in lst:\n",
    "        if i % 2 != 0:\n",
    "            odd.append(i)\n",
    "    return len(odd)\n",
    "\n",
    "print(len_odd())"
   ]
  },
  {
   "cell_type": "markdown",
   "metadata": {},
   "source": [
    "**T3**"
   ]
  },
  {
   "cell_type": "code",
   "execution_count": 16,
   "metadata": {},
   "outputs": [
    {
     "name": "stdout",
     "output_type": "stream",
     "text": [
      "30\n"
     ]
    }
   ],
   "source": [
    "lst = [10, 20, 5, 30, 15]\n",
    "\n",
    "def max_num():\n",
    "    return max(lst)\n",
    "\n",
    "print(max_num())"
   ]
  },
  {
   "cell_type": "markdown",
   "metadata": {},
   "source": [
    "**T4**"
   ]
  },
  {
   "cell_type": "code",
   "execution_count": 17,
   "metadata": {},
   "outputs": [
    {
     "name": "stdout",
     "output_type": "stream",
     "text": [
      "5\n"
     ]
    }
   ],
   "source": [
    "lst = [10, 20, 5, 30, 15]\n",
    "\n",
    "def min_num():\n",
    "    return min(lst)\n",
    "\n",
    "print(min_num())"
   ]
  },
  {
   "cell_type": "markdown",
   "metadata": {},
   "source": [
    "**T5**"
   ]
  },
  {
   "cell_type": "code",
   "execution_count": 27,
   "metadata": {},
   "outputs": [
    {
     "name": "stdout",
     "output_type": "stream",
     "text": [
      "[1, 3, 5]\n"
     ]
    }
   ],
   "source": [
    "lst = [1, -2, 3, -4, 5]\n",
    "\n",
    "def negtive_num():\n",
    "    n = []\n",
    "    for i in lst :\n",
    "        if i > 0:\n",
    "             n.append(i)\n",
    "    return n\n",
    "\n",
    "print(negtive_num())"
   ]
  },
  {
   "cell_type": "markdown",
   "metadata": {},
   "source": [
    "**T6**"
   ]
  },
  {
   "cell_type": "code",
   "execution_count": 28,
   "metadata": {},
   "outputs": [
    {
     "name": "stdout",
     "output_type": "stream",
     "text": [
      "[1, 2, 3, 4, 5]\n"
     ]
    }
   ],
   "source": [
    "lst =  [1, 2, 2, 3, 4, 4, 5]\n",
    "\n",
    "def del_num():\n",
    "    return list(set(lst))\n",
    "\n",
    "print(del_num())"
   ]
  },
  {
   "cell_type": "markdown",
   "metadata": {},
   "source": [
    "**T7**"
   ]
  },
  {
   "cell_type": "code",
   "execution_count": 29,
   "metadata": {},
   "outputs": [
    {
     "name": "stdout",
     "output_type": "stream",
     "text": [
      "[1, 1, 3, 4, 5, 9]\n"
     ]
    }
   ],
   "source": [
    "lst = [3, 1, 4, 1, 5, 9]\n",
    "\n",
    "def sort_upper():\n",
    "    return sorted(lst)\n",
    "\n",
    "print(sort_upper())"
   ]
  },
  {
   "cell_type": "markdown",
   "metadata": {},
   "source": [
    "**T8**"
   ]
  },
  {
   "cell_type": "code",
   "execution_count": null,
   "metadata": {},
   "outputs": [
    {
     "name": "stdout",
     "output_type": "stream",
     "text": [
      "[1, 1, 3, 4, 5, 9]\n"
     ]
    }
   ],
   "source": [
    "lst = [3, 1, 4, 1, 5, 9]\n",
    "\n",
    "def sort_lower():\n",
    "    return lst.sort(reverse=True)\n",
    "\n",
    "print(sort_upper())"
   ]
  },
  {
   "cell_type": "markdown",
   "metadata": {},
   "source": [
    "**T9**"
   ]
  },
  {
   "cell_type": "code",
   "execution_count": 33,
   "metadata": {},
   "outputs": [
    {
     "name": "stdout",
     "output_type": "stream",
     "text": [
      "25.0\n"
     ]
    }
   ],
   "source": [
    "lst = [10, 20, 30, 40]\n",
    "\n",
    "def average():\n",
    "    return sum(lst) / len(lst)\\\n",
    "    \n",
    "print(average())"
   ]
  },
  {
   "cell_type": "markdown",
   "metadata": {},
   "source": [
    "**T10**"
   ]
  },
  {
   "cell_type": "code",
   "execution_count": 34,
   "metadata": {},
   "outputs": [
    {
     "name": "stdout",
     "output_type": "stream",
     "text": [
      "2.5\n"
     ]
    }
   ],
   "source": [
    "import statistics\n",
    "lst = [1, 2, 3, 4, 5]\n",
    "\n",
    "def variance():\n",
    "    return statistics.variance(lst)\n",
    "\n",
    "print(variance())"
   ]
  },
  {
   "cell_type": "markdown",
   "metadata": {},
   "source": [
    "**T11**"
   ]
  },
  {
   "cell_type": "code",
   "execution_count": 35,
   "metadata": {},
   "outputs": [
    {
     "name": "stdout",
     "output_type": "stream",
     "text": [
      "Odd\n"
     ]
    }
   ],
   "source": [
    "def odd_oven(num):\n",
    "    if num % 2 == 0:\n",
    "        print('Oven')\n",
    "    else:\n",
    "        print('Odd')\n",
    "\n",
    "odd_oven(7)"
   ]
  },
  {
   "cell_type": "markdown",
   "metadata": {},
   "source": [
    "**T12**"
   ]
  },
  {
   "cell_type": "code",
   "execution_count": 36,
   "metadata": {},
   "outputs": [
    {
     "name": "stdout",
     "output_type": "stream",
     "text": [
      "Negative\n"
     ]
    }
   ],
   "source": [
    "def postive_negetave(num):\n",
    "    if num < 0:\n",
    "        print(\"Negative\")\n",
    "    else:\n",
    "        print(\"Positive\")\n",
    "\n",
    "postive_negetave(-5)\n"
   ]
  }
 ],
 "metadata": {
  "kernelspec": {
   "display_name": "Python 3",
   "language": "python",
   "name": "python3"
  },
  "language_info": {
   "codemirror_mode": {
    "name": "ipython",
    "version": 3
   },
   "file_extension": ".py",
   "mimetype": "text/x-python",
   "name": "python",
   "nbconvert_exporter": "python",
   "pygments_lexer": "ipython3",
   "version": "3.11.5"
  }
 },
 "nbformat": 4,
 "nbformat_minor": 2
}
