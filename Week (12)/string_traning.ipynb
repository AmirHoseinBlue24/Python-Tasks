{
 "cells": [
  {
   "cell_type": "code",
   "execution_count": null,
   "id": "66ba7a24",
   "metadata": {},
   "outputs": [
    {
     "name": "stdout",
     "output_type": "stream",
     "text": [
      "0b1001101\n"
     ]
    }
   ],
   "source": [
    "# str => bin\n",
    "\n",
    "string = \"M\"\n",
    "\n",
    "print(bin(ord(string)))"
   ]
  },
  {
   "cell_type": "code",
   "execution_count": null,
   "id": "df2db70f",
   "metadata": {},
   "outputs": [
    {
     "name": "stdout",
     "output_type": "stream",
     "text": [
      "󴚍\n"
     ]
    }
   ],
   "source": [
    "# bin => str\n",
    "\n",
    "binary = \"001101\"\n",
    "char = chr(int(binary))\n",
    "\n",
    "print(char)"
   ]
  },
  {
   "cell_type": "code",
   "execution_count": 7,
   "id": "bc4f7a7e",
   "metadata": {},
   "outputs": [
    {
     "name": "stdout",
     "output_type": "stream",
     "text": [
      "Hi ,Hello world\n"
     ]
    }
   ],
   "source": [
    "s = \"Hi ,{0} {1}\"\n",
    "a = \"Hello\"\n",
    "b = \"world\"\n",
    "\n",
    "print(s.format(a,b))"
   ]
  }
 ],
 "metadata": {
  "kernelspec": {
   "display_name": "Python 3",
   "language": "python",
   "name": "python3"
  },
  "language_info": {
   "codemirror_mode": {
    "name": "ipython",
    "version": 3
   },
   "file_extension": ".py",
   "mimetype": "text/x-python",
   "name": "python",
   "nbconvert_exporter": "python",
   "pygments_lexer": "ipython3",
   "version": "3.13.3"
  }
 },
 "nbformat": 4,
 "nbformat_minor": 5
}
