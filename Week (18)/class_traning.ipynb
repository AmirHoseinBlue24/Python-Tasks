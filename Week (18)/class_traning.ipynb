{
 "cells": [
  {
   "cell_type": "code",
   "execution_count": null,
   "id": "16a0f8cb",
   "metadata": {},
   "outputs": [
    {
     "name": "stdout",
     "output_type": "stream",
     "text": [
      "False\n"
     ]
    }
   ],
   "source": [
    "class Check:\n",
    "    def __init__(self, password):\n",
    "        self.password = password\n",
    "    def is_strong(self):\n",
    "        has_upper = False\n",
    "        has_digit = False\n",
    "        for char in self.password:\n",
    "            if char.isupper():\n",
    "                has_upper = True\n",
    "            if char.isdigit():\n",
    "                has_digit = True\n",
    "\n",
    "password = Check(\"Secure123\")\n",
    "if password.is_strong():\n",
    "    print(\"Password is strong.\")\n",
    "else:\n",
    "    print(\"Password is not strong.\")\n"
   ]
  },
  {
   "cell_type": "code",
   "execution_count": null,
   "id": "fb065573",
   "metadata": {},
   "outputs": [
    {
     "name": "stdout",
     "output_type": "stream",
     "text": [
      "2 slots not available we have 1 slots.\n"
     ]
    }
   ],
   "source": [
    "class Parking:\n",
    "    def __init__(self, slots):\n",
    "        self.slots = slots\n",
    "    def requested_slot(self, req_slots):\n",
    "        if req_slots <= self.slots:\n",
    "            self.slots -= req_slots\n",
    "            return f'Have {req_slots} slots available.'\n",
    "        else:\n",
    "            return f'{req_slots} slots not available we have {self.slots} slots available.'\n",
    "        \n",
    "parking = Parking(1)\n",
    "print(parking.requested_slot(2))"
   ]
  },
  {
   "cell_type": "code",
   "execution_count": 6,
   "id": "86d2db35",
   "metadata": {},
   "outputs": [
    {
     "name": "stdout",
     "output_type": "stream",
     "text": [
      "Pay sum: 40500000 toman\n"
     ]
    }
   ],
   "source": [
    "class Cart:\n",
    "    def __init__(self):\n",
    "        self.items = []\n",
    "    def add_item(self, item, quantity, price):\n",
    "        self.items.append((item, quantity, price))\n",
    "    def total_price(self):\n",
    "        total = 0\n",
    "        for item in self.items:\n",
    "            total += item[1] * item[2]\n",
    "        return f'Pay sum: {total} toman'\n",
    "    \n",
    "cart1 = Cart()\n",
    "cart1.add_item(\"Mobile\", 2, 20000000)\n",
    "cart1.add_item(\"Case\", 1, 500000)\n",
    "print(cart1.total_price())"
   ]
  },
  {
   "cell_type": "code",
   "execution_count": 9,
   "id": "5c5d78a3",
   "metadata": {},
   "outputs": [
    {
     "name": "stdout",
     "output_type": "stream",
     "text": [
      "Valid card number\n"
     ]
    }
   ],
   "source": [
    "class Card:\n",
    "    def check_card(self, card_number):\n",
    "        if len(card_number) == 16:\n",
    "            print(\"Valid card number\")\n",
    "        else:\n",
    "            print(\"Invalid card number\")\n",
    "        \n",
    "card = Card()\n",
    "card.check_card(\"6037991234567890\")"
   ]
  },
  {
   "cell_type": "code",
   "execution_count": null,
   "id": "47b9d09e",
   "metadata": {},
   "outputs": [
    {
     "name": "stdout",
     "output_type": "stream",
     "text": [
      "You can't pass\n"
     ]
    }
   ],
   "source": [
    "class Metro_card:\n",
    "    def __init__(self, stock):\n",
    "        self.stock = stock\n",
    "    def gate(self):\n",
    "        if self.balance >= 7000:\n",
    "            print(\"You can pass\")\n",
    "        else:\n",
    "            print(\"You can't pass\")\n",
    "    \n",
    "card = Metro_card(5000)\n",
    "card.gate()"
   ]
  },
  {
   "cell_type": "code",
   "execution_count": 25,
   "id": "c0bf16d4",
   "metadata": {},
   "outputs": [
    {
     "name": "stdout",
     "output_type": "stream",
     "text": [
      "enough\n"
     ]
    }
   ],
   "source": [
    "class Items:\n",
    "    def __init__(self, stock):\n",
    "        self.stock = stock\n",
    "    def check_order(self, req_items):\n",
    "        for item, quantity in req_items.items():\n",
    "            if self.stock.get(item, 0) < quantity:\n",
    "                return \"not enough\"\n",
    "        return \"enough\"\n",
    "\n",
    "items = Items({\"kibord\": 3})\n",
    "print(items.check_order({\"kibord\": 1}))"
   ]
  }
 ],
 "metadata": {
  "kernelspec": {
   "display_name": "Python 3",
   "language": "python",
   "name": "python3"
  },
  "language_info": {
   "codemirror_mode": {
    "name": "ipython",
    "version": 3
   },
   "file_extension": ".py",
   "mimetype": "text/x-python",
   "name": "python",
   "nbconvert_exporter": "python",
   "pygments_lexer": "ipython3",
   "version": "3.13.3"
  }
 },
 "nbformat": 4,
 "nbformat_minor": 5
}
