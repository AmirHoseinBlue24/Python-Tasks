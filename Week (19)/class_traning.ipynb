{
 "cells": [
  {
   "cell_type": "code",
   "execution_count": null,
   "id": "bb67f976",
   "metadata": {},
   "outputs": [
    {
     "name": "stdout",
     "output_type": "stream",
     "text": [
      "wireless Mouse\n"
     ]
    }
   ],
   "source": [
    "class Suggest:\n",
    "    def __init__(self):\n",
    "        self.purchase = {\"Python book\" : \"Javascript book\", \"Laptop\" : \"Wireless mouse\"} \n",
    "    def suggestion(self, history):\n",
    "        return self.purchase.get(history)\n",
    "\n",
    "recomend = Suggest()\n",
    "print(recomend.suggestion(\"Laptop\"))"
   ]
  },
  {
   "cell_type": "code",
   "execution_count": 6,
   "id": "7cb2cb6d",
   "metadata": {},
   "outputs": [
    {
     "name": "stdout",
     "output_type": "stream",
     "text": [
      "SMS send to 2 users\n"
     ]
    }
   ],
   "source": [
    "class SMS:\n",
    "    def __init__(self, numbers):\n",
    "        self.numbers = numbers\n",
    "    def send(self):\n",
    "        return f'SMS send to {len(self.numbers)} users'\n",
    "\n",
    "sender = SMS([\"09121234567\", \"09351234567\"])\n",
    "print(sender.send())"
   ]
  },
  {
   "cell_type": "code",
   "execution_count": null,
   "id": "c431d10e",
   "metadata": {},
   "outputs": [
    {
     "name": "stdout",
     "output_type": "stream",
     "text": [
      "Comment is positive\n"
     ]
    }
   ],
   "source": [
    "class Analyzer:\n",
    "    def __init__(self, comment):\n",
    "        self.postive = [\"good\", \"nice\", \"perfect\"]\n",
    "        self.comment = comment\n",
    "    def analyze(self):\n",
    "        for word in self.postive:\n",
    "            if word in self.comment:\n",
    "                return \"Comment is positive\"\n",
    "            else:\n",
    "                return \"Comment is not positive\"\n",
    "            \n",
    "a = Analyzer(\"That's very good\")\n",
    "print(a.analyze())"
   ]
  },
  {
   "cell_type": "code",
   "execution_count": null,
   "id": "c9a8ea44",
   "metadata": {},
   "outputs": [],
   "source": [
    "class Vam:\n",
    "    def __init__(self, total, paid):\n",
    "        self.total = total\n",
    "        self.paid = paid\n",
    "    def payment(self):\n",
    "        return f'{self.total - self.paid} toman remaining'\n",
    "    \n",
    "me = Vam(5000000, 2000000)\n",
    "print(me.payment())"
   ]
  },
  {
   "cell_type": "code",
   "execution_count": 12,
   "id": "2600b1bb",
   "metadata": {},
   "outputs": [
    {
     "name": "stdout",
     "output_type": "stream",
     "text": [
      "not recommended for flight\n"
     ]
    }
   ],
   "source": [
    "class Check:\n",
    "    def __init__(self, temp, speed):\n",
    "        self.temp = temp\n",
    "        self.speed = speed\n",
    "    def is_safe(self):\n",
    "        if self.temp > 0 and self.speed < 30:\n",
    "            print(\"Good for flight\")\n",
    "        else:\n",
    "            print(\"not recommended for flight\")\n",
    "\n",
    "temp_check = Check(5, 50)\n",
    "temp_check.is_safe()"
   ]
  }
 ],
 "metadata": {
  "kernelspec": {
   "display_name": "Python 3",
   "language": "python",
   "name": "python3"
  },
  "language_info": {
   "codemirror_mode": {
    "name": "ipython",
    "version": 3
   },
   "file_extension": ".py",
   "mimetype": "text/x-python",
   "name": "python",
   "nbconvert_exporter": "python",
   "pygments_lexer": "ipython3",
   "version": "3.13.3"
  }
 },
 "nbformat": 4,
 "nbformat_minor": 5
}
