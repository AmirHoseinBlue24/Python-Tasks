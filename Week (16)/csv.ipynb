{
 "cells": [
  {
   "cell_type": "code",
   "execution_count": 2,
   "id": "09ebc486",
   "metadata": {},
   "outputs": [
    {
     "name": "stdout",
     "output_type": "stream",
     "text": [
      "['Name', 'Math', 'Chemistry', 'English']\n",
      "['AmirHosein', '19', '18', '20']\n",
      "['Shahin', '20', '20', '20']\n",
      "['Ali', '17', '18', '16']\n"
     ]
    }
   ],
   "source": [
    "import csv\n",
    "\n",
    "with open('./Grades.csv', newline='') as file:\n",
    "    reader = csv.reader(file)\n",
    "    for row in reader:\n",
    "        print(row)\n"
   ]
  },
  {
   "cell_type": "code",
   "execution_count": 3,
   "id": "2c2347b6",
   "metadata": {},
   "outputs": [],
   "source": [
    "rows = [\n",
    "    ['Name', 'Age', 'city'],\n",
    "    ['AmirHosein', 13, 'Tehran'],\n",
    "    ['Shahin', 24, 'Shiraz']\n",
    "]\n",
    "\n",
    "with open('./info.csv', 'w', newline='') as file:\n",
    "    writer = csv.writer(file)\n",
    "    writer.writerows(rows)"
   ]
  },
  {
   "cell_type": "code",
   "execution_count": 4,
   "id": "58f48c85",
   "metadata": {},
   "outputs": [
    {
     "name": "stdout",
     "output_type": "stream",
     "text": [
      "{'Name': 'AmirHosein', 'Math': '19', 'Chemistry': '18', 'English': '20'}\n",
      "{'Name': 'Shahin', 'Math': '20', 'Chemistry': '20', 'English': '20'}\n",
      "{'Name': 'Ali', 'Math': '17', 'Chemistry': '18', 'English': '16'}\n"
     ]
    }
   ],
   "source": [
    "with open('Grades.csv', newline='') as file:\n",
    "    reader = csv.DictReader(file)\n",
    "    for row in reader:\n",
    "        print(row)"
   ]
  },
  {
   "cell_type": "code",
   "execution_count": 1,
   "id": "8f07b85a",
   "metadata": {},
   "outputs": [
    {
     "name": "stdout",
     "output_type": "stream",
     "text": [
      "         Name  Math  Chemistry  English\n",
      "0  AmirHosein    19         18       20\n",
      "1      Shahin    20         20       20\n",
      "2         Ali    17         18       16\n"
     ]
    }
   ],
   "source": [
    "import pandas as pd\n",
    "\n",
    "\n",
    "df = pd.read_csv('Grades.csv')\n",
    "print(df)"
   ]
  },
  {
   "cell_type": "code",
   "execution_count": null,
   "id": "e7cf41fd",
   "metadata": {},
   "outputs": [],
   "source": [
    "import pandas as pd\n",
    "\n",
    "df = pd.DataFrame({\n",
    "    'name': ['Amin', 'Matin'],\n",
    "    'age': [19, 21],\n",
    "    'city': ['Qom', 'Rasht']\n",
    "})\n",
    "\n",
    "df.to_csv('new_data.csv', index=False)"
   ]
  },
  {
   "cell_type": "code",
   "execution_count": 2,
   "id": "eccff6fd",
   "metadata": {},
   "outputs": [
    {
     "name": "stdout",
     "output_type": "stream",
     "text": [
      "     Name  Age    city\n",
      "1  Shahin   24  Shiraz\n"
     ]
    }
   ],
   "source": [
    "import pandas as pd\n",
    "\n",
    "df = pd.read_csv('info.csv')\n",
    "filtered = df[df['Age'] > 15]\n",
    "print(filtered)"
   ]
  },
  {
   "cell_type": "code",
   "execution_count": 3,
   "id": "462249a8",
   "metadata": {},
   "outputs": [
    {
     "name": "stdout",
     "output_type": "stream",
     "text": [
      "             Age\n",
      "count   2.000000\n",
      "mean   18.500000\n",
      "std     7.778175\n",
      "min    13.000000\n",
      "25%    15.750000\n",
      "50%    18.500000\n",
      "75%    21.250000\n",
      "max    24.000000\n"
     ]
    }
   ],
   "source": [
    "print(df.describe())"
   ]
  }
 ],
 "metadata": {
  "kernelspec": {
   "display_name": "Python 3",
   "language": "python",
   "name": "python3"
  },
  "language_info": {
   "codemirror_mode": {
    "name": "ipython",
    "version": 3
   },
   "file_extension": ".py",
   "mimetype": "text/x-python",
   "name": "python",
   "nbconvert_exporter": "python",
   "pygments_lexer": "ipython3",
   "version": "3.13.3"
  }
 },
 "nbformat": 4,
 "nbformat_minor": 5
}
