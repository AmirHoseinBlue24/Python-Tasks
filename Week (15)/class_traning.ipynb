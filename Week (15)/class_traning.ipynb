{
 "cells": [
  {
   "cell_type": "code",
   "execution_count": 5,
   "id": "b66d1cb2",
   "metadata": {},
   "outputs": [
    {
     "name": "stdout",
     "output_type": "stream",
     "text": [
      "2023\n"
     ]
    }
   ],
   "source": [
    "class Car:\n",
    "    def __init__(self,name,year,price):\n",
    "        self.name = name\n",
    "        self.price = price\n",
    "        self.year = year\n",
    "    def info(self):\n",
    "        print(self.name)\n",
    "\n",
    "obj_car_prado1 = Car('Prado', 2023, 10000)\n",
    "obj_car_benz1 = Car('Benz Meybach', 2024, 78000)\n",
    "print(obj_car_prado1.year)"
   ]
  },
  {
   "cell_type": "code",
   "execution_count": 1,
   "id": "8894ee19",
   "metadata": {},
   "outputs": [
    {
     "name": "stdout",
     "output_type": "stream",
     "text": [
      "Benz Meybach 2024 78000\n"
     ]
    }
   ],
   "source": [
    "class Car:\n",
    "    def __init__(self,name,year,price):\n",
    "        self.name = name\n",
    "        self.price = price\n",
    "        self.year = year\n",
    "    def info(self):\n",
    "        print(self.name, self.year, self.price)\n",
    "\n",
    "obj_car_prado1 = Car('Prado', 2023, 10000)\n",
    "obj_car_benz1 = Car('Benz Meybach', 2024, 78000)\n",
    "obj_car_benz1.info()"
   ]
  },
  {
   "cell_type": "code",
   "execution_count": null,
   "id": "191a4414",
   "metadata": {},
   "outputs": [],
   "source": []
  }
 ],
 "metadata": {
  "kernelspec": {
   "display_name": "Python 3",
   "language": "python",
   "name": "python3"
  },
  "language_info": {
   "codemirror_mode": {
    "name": "ipython",
    "version": 3
   },
   "file_extension": ".py",
   "mimetype": "text/x-python",
   "name": "python",
   "nbconvert_exporter": "python",
   "pygments_lexer": "ipython3",
   "version": "3.13.3"
  }
 },
 "nbformat": 4,
 "nbformat_minor": 5
}
