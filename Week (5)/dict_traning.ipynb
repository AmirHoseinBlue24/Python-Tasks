{
 "cells": [
  {
   "cell_type": "markdown",
   "metadata": {},
   "source": [
    "**1**"
   ]
  },
  {
   "cell_type": "code",
   "execution_count": 2,
   "metadata": {},
   "outputs": [
    {
     "name": "stdout",
     "output_type": "stream",
     "text": [
      "36\n"
     ]
    }
   ],
   "source": [
    "d = {'a': [1, 2, 3], 'b': [4, 5], 'c': [6, 7, 8]}\n",
    "total = 0\n",
    "for v in d.values():\n",
    "    total += sum(v)\n",
    "print(total)"
   ]
  },
  {
   "cell_type": "markdown",
   "metadata": {},
   "source": [
    "**2**"
   ]
  },
  {
   "cell_type": "code",
   "execution_count": 1,
   "metadata": {},
   "outputs": [
    {
     "name": "stdout",
     "output_type": "stream",
     "text": [
      "{'person1': 25, 'person2': 30, 'person3': 28}\n"
     ]
    }
   ],
   "source": [
    "d = {\n",
    "    'person1': {'name': 'Ali', 'age': 25},\n",
    "    'person2': {'name': 'Sara', 'age': 30},\n",
    "    'person3': {'name': 'Reza', 'age': 28}\n",
    "}\n",
    "ages = {}\n",
    "for key, value in d.items():\n",
    "    ages[key] = value['age']\n",
    "print(ages)"
   ]
  },
  {
   "cell_type": "markdown",
   "metadata": {},
   "source": [
    "**3**"
   ]
  },
  {
   "cell_type": "code",
   "execution_count": 9,
   "metadata": {},
   "outputs": [
    {
     "name": "stdout",
     "output_type": "stream",
     "text": [
      "{'b': [12, 7, 6], 'd': [10, 15, 20]}\n"
     ]
    }
   ],
   "source": [
    "d = {'a': [5, 3, 8], 'b': [12, 7, 6], 'c': [1, 2, 3], 'd': [10, 15, 20]}\n",
    "d1 = {}\n",
    "\n",
    "for key, values in d.items():\n",
    "    for v in values:\n",
    "        if v > 10:\n",
    "            d1[key] = values\n",
    "            break\n",
    "\n",
    "print(d1)"
   ]
  },
  {
   "cell_type": "markdown",
   "metadata": {},
   "source": [
    "**4**"
   ]
  },
  {
   "cell_type": "code",
   "execution_count": 17,
   "metadata": {},
   "outputs": [
    {
     "name": "stdout",
     "output_type": "stream",
     "text": [
      "{'2021-12-25': 10, '2022-05-01': 15, '2023-01-10': 20}\n"
     ]
    }
   ],
   "source": [
    "d = {\n",
    "    '2022-05-01': 15,\n",
    "    '2023-01-10': 20,\n",
    "    '2021-12-25': 10\n",
    "}\n",
    "dict = dict(sorted(d.items()))\n",
    "print(dict)"
   ]
  },
  {
   "cell_type": "markdown",
   "metadata": {},
   "source": [
    "**5**"
   ]
  },
  {
   "cell_type": "code",
   "execution_count": 20,
   "metadata": {},
   "outputs": [
    {
     "name": "stdout",
     "output_type": "stream",
     "text": [
      "['product1', 'product2', 'product4']\n"
     ]
    }
   ],
   "source": [
    "d = {\n",
    "'product1': 45,\n",
    "'product2': 30,\n",
    "'product3': 55,\n",
    "'product4': 20\n",
    "}\n",
    "d1 = []\n",
    "\n",
    "for key, value in d.items():\n",
    "    if value <= 50:\n",
    "        d1.append(key)\n",
    "\n",
    "print(d1)"
   ]
  },
  {
   "cell_type": "markdown",
   "metadata": {},
   "source": [
    "**6**"
   ]
  },
  {
   "cell_type": "code",
   "execution_count": 29,
   "metadata": {},
   "outputs": [
    {
     "name": "stdout",
     "output_type": "stream",
     "text": [
      "{'Tehran': 36, 'Shiraz': 33, 'Isfahan': 32}\n"
     ]
    }
   ],
   "source": [
    "d = {\n",
    "'Tehran': [32, 33, 35, 36, 34],\n",
    "'Shiraz': [30, 31, 32, 33],\n",
    "'Isfahan': [28, 29, 31, 32]\n",
    "}\n",
    "d1 = {}\n",
    "\n",
    "for key, value in d.items():\n",
    "    d1[key] = max(value)\n",
    "\n",
    "print(d1)"
   ]
  },
  {
   "cell_type": "markdown",
   "metadata": {},
   "source": [
    "**7**"
   ]
  },
  {
   "cell_type": "code",
   "execution_count": 33,
   "metadata": {},
   "outputs": [
    {
     "name": "stdout",
     "output_type": "stream",
     "text": [
      "{'student1': {'name': 'Ali', 'age': 17}, 'student3': {'name': 'Reza', 'age': 16}}\n"
     ]
    }
   ],
   "source": [
    "d = {\n",
    "'student1': {'name': 'Ali', 'age': 17},\n",
    "'student2': {'name': 'Sara', 'age': 19},\n",
    "'student3': {'name': 'Reza', 'age': 16}\n",
    "}\n",
    "d1 = {}\n",
    "\n",
    "for key, value in d.items():\n",
    "    if value['age'] < 18:\n",
    "        d1[key] = value\n",
    "\n",
    "print(d1)"
   ]
  }
 ],
 "metadata": {
  "kernelspec": {
   "display_name": ".venv",
   "language": "python",
   "name": "python3"
  },
  "language_info": {
   "codemirror_mode": {
    "name": "ipython",
    "version": 3
   },
   "file_extension": ".py",
   "mimetype": "text/x-python",
   "name": "python",
   "nbconvert_exporter": "python",
   "pygments_lexer": "ipython3",
   "version": "3.11.5"
  }
 },
 "nbformat": 4,
 "nbformat_minor": 2
}
