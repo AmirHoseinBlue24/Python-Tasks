{
 "cells": [
  {
   "cell_type": "code",
   "execution_count": 35,
   "id": "7b93012d",
   "metadata": {},
   "outputs": [
    {
     "name": "stdout",
     "output_type": "stream",
     "text": [
      "570\n"
     ]
    }
   ],
   "source": [
    "def sum_100(lst, i=0):\n",
    "    if i == len(lst):\n",
    "        return 0\n",
    "    if lst[i] > 100:\n",
    "        return lst[i] + sum_100(lst, i+1)\n",
    "    else:\n",
    "        return sum_100(lst, i+1)\n",
    "\n",
    "lst = [120, 90, 300, 80, 150] \n",
    "print(sum_100(lst))"
   ]
  },
  {
   "cell_type": "code",
   "execution_count": 13,
   "id": "05dda68f",
   "metadata": {},
   "outputs": [
    {
     "name": "stdout",
     "output_type": "stream",
     "text": [
      "[1, 2, 3, 4]\n"
     ]
    }
   ],
   "source": [
    "def remove(lst, i=0, result=[]):\n",
    "    if i == len(lst):\n",
    "        return result\n",
    "    if lst[i] not in result:\n",
    "        result.append(lst[i])\n",
    "    return remove(lst, i+1, result)\n",
    "\n",
    "l = [1, 2, 2, 3, 3, 3, 4]\n",
    "print(remove(l))"
   ]
  },
  {
   "cell_type": "code",
   "execution_count": null,
   "id": "f8af4db1",
   "metadata": {},
   "outputs": [
    {
     "ename": "TypeError",
     "evalue": "can only concatenate str (not \"NoneType\") to str",
     "output_type": "error",
     "traceback": [
      "\u001b[31m---------------------------------------------------------------------------\u001b[39m",
      "\u001b[31mTypeError\u001b[39m                                 Traceback (most recent call last)",
      "\u001b[36mCell\u001b[39m\u001b[36m \u001b[39m\u001b[32mIn[40]\u001b[39m\u001b[32m, line 10\u001b[39m\n\u001b[32m      7\u001b[39m     \u001b[38;5;28;01melse\u001b[39;00m:\n\u001b[32m      8\u001b[39m         s[\u001b[32m0\u001b[39m] + space_remove(s[\u001b[32m1\u001b[39m:])\n\u001b[32m---> \u001b[39m\u001b[32m10\u001b[39m \u001b[38;5;28mprint\u001b[39m(\u001b[43mspace_remove\u001b[49m\u001b[43m(\u001b[49m\u001b[33;43m\"\u001b[39;49m\u001b[33;43mI love    Python\u001b[39;49m\u001b[33;43m\"\u001b[39;49m\u001b[43m)\u001b[49m)\n",
      "\u001b[36mCell\u001b[39m\u001b[36m \u001b[39m\u001b[32mIn[40]\u001b[39m\u001b[32m, line 8\u001b[39m, in \u001b[36mspace_remove\u001b[39m\u001b[34m(s)\u001b[39m\n\u001b[32m      6\u001b[39m     \u001b[38;5;28;01mreturn\u001b[39;00m space_remove(s[\u001b[32m1\u001b[39m:])\n\u001b[32m      7\u001b[39m \u001b[38;5;28;01melse\u001b[39;00m:\n\u001b[32m----> \u001b[39m\u001b[32m8\u001b[39m     s[\u001b[32m0\u001b[39m] + \u001b[43mspace_remove\u001b[49m\u001b[43m(\u001b[49m\u001b[43ms\u001b[49m\u001b[43m[\u001b[49m\u001b[32;43m1\u001b[39;49m\u001b[43m:\u001b[49m\u001b[43m]\u001b[49m\u001b[43m)\u001b[49m\n",
      "\u001b[36mCell\u001b[39m\u001b[36m \u001b[39m\u001b[32mIn[40]\u001b[39m\u001b[32m, line 6\u001b[39m, in \u001b[36mspace_remove\u001b[39m\u001b[34m(s)\u001b[39m\n\u001b[32m      3\u001b[39m     \u001b[38;5;28;01mreturn\u001b[39;00m \u001b[33m\"\u001b[39m\u001b[33m\"\u001b[39m\n\u001b[32m      5\u001b[39m \u001b[38;5;28;01mif\u001b[39;00m s[\u001b[32m0\u001b[39m] == \u001b[33m\"\u001b[39m\u001b[33m \u001b[39m\u001b[33m\"\u001b[39m:\n\u001b[32m----> \u001b[39m\u001b[32m6\u001b[39m     \u001b[38;5;28;01mreturn\u001b[39;00m \u001b[43mspace_remove\u001b[49m\u001b[43m(\u001b[49m\u001b[43ms\u001b[49m\u001b[43m[\u001b[49m\u001b[32;43m1\u001b[39;49m\u001b[43m:\u001b[49m\u001b[43m]\u001b[49m\u001b[43m)\u001b[49m\n\u001b[32m      7\u001b[39m \u001b[38;5;28;01melse\u001b[39;00m:\n\u001b[32m      8\u001b[39m     s[\u001b[32m0\u001b[39m] + space_remove(s[\u001b[32m1\u001b[39m:])\n",
      "\u001b[36mCell\u001b[39m\u001b[36m \u001b[39m\u001b[32mIn[40]\u001b[39m\u001b[32m, line 8\u001b[39m, in \u001b[36mspace_remove\u001b[39m\u001b[34m(s)\u001b[39m\n\u001b[32m      6\u001b[39m     \u001b[38;5;28;01mreturn\u001b[39;00m space_remove(s[\u001b[32m1\u001b[39m:])\n\u001b[32m      7\u001b[39m \u001b[38;5;28;01melse\u001b[39;00m:\n\u001b[32m----> \u001b[39m\u001b[32m8\u001b[39m     s[\u001b[32m0\u001b[39m] + \u001b[43mspace_remove\u001b[49m\u001b[43m(\u001b[49m\u001b[43ms\u001b[49m\u001b[43m[\u001b[49m\u001b[32;43m1\u001b[39;49m\u001b[43m:\u001b[49m\u001b[43m]\u001b[49m\u001b[43m)\u001b[49m\n",
      "    \u001b[31m[... skipping similar frames: space_remove at line 8 (3 times)]\u001b[39m\n",
      "\u001b[36mCell\u001b[39m\u001b[36m \u001b[39m\u001b[32mIn[40]\u001b[39m\u001b[32m, line 6\u001b[39m, in \u001b[36mspace_remove\u001b[39m\u001b[34m(s)\u001b[39m\n\u001b[32m      3\u001b[39m     \u001b[38;5;28;01mreturn\u001b[39;00m \u001b[33m\"\u001b[39m\u001b[33m\"\u001b[39m\n\u001b[32m      5\u001b[39m \u001b[38;5;28;01mif\u001b[39;00m s[\u001b[32m0\u001b[39m] == \u001b[33m\"\u001b[39m\u001b[33m \u001b[39m\u001b[33m\"\u001b[39m:\n\u001b[32m----> \u001b[39m\u001b[32m6\u001b[39m     \u001b[38;5;28;01mreturn\u001b[39;00m \u001b[43mspace_remove\u001b[49m\u001b[43m(\u001b[49m\u001b[43ms\u001b[49m\u001b[43m[\u001b[49m\u001b[32;43m1\u001b[39;49m\u001b[43m:\u001b[49m\u001b[43m]\u001b[49m\u001b[43m)\u001b[49m\n\u001b[32m      7\u001b[39m \u001b[38;5;28;01melse\u001b[39;00m:\n\u001b[32m      8\u001b[39m     s[\u001b[32m0\u001b[39m] + space_remove(s[\u001b[32m1\u001b[39m:])\n",
      "    \u001b[31m[... skipping similar frames: space_remove at line 6 (2 times)]\u001b[39m\n",
      "\u001b[36mCell\u001b[39m\u001b[36m \u001b[39m\u001b[32mIn[40]\u001b[39m\u001b[32m, line 6\u001b[39m, in \u001b[36mspace_remove\u001b[39m\u001b[34m(s)\u001b[39m\n\u001b[32m      3\u001b[39m     \u001b[38;5;28;01mreturn\u001b[39;00m \u001b[33m\"\u001b[39m\u001b[33m\"\u001b[39m\n\u001b[32m      5\u001b[39m \u001b[38;5;28;01mif\u001b[39;00m s[\u001b[32m0\u001b[39m] == \u001b[33m\"\u001b[39m\u001b[33m \u001b[39m\u001b[33m\"\u001b[39m:\n\u001b[32m----> \u001b[39m\u001b[32m6\u001b[39m     \u001b[38;5;28;01mreturn\u001b[39;00m \u001b[43mspace_remove\u001b[49m\u001b[43m(\u001b[49m\u001b[43ms\u001b[49m\u001b[43m[\u001b[49m\u001b[32;43m1\u001b[39;49m\u001b[43m:\u001b[49m\u001b[43m]\u001b[49m\u001b[43m)\u001b[49m\n\u001b[32m      7\u001b[39m \u001b[38;5;28;01melse\u001b[39;00m:\n\u001b[32m      8\u001b[39m     s[\u001b[32m0\u001b[39m] + space_remove(s[\u001b[32m1\u001b[39m:])\n",
      "    \u001b[31m[... skipping similar frames: space_remove at line 8 (4 times)]\u001b[39m\n",
      "\u001b[36mCell\u001b[39m\u001b[36m \u001b[39m\u001b[32mIn[40]\u001b[39m\u001b[32m, line 8\u001b[39m, in \u001b[36mspace_remove\u001b[39m\u001b[34m(s)\u001b[39m\n\u001b[32m      6\u001b[39m     \u001b[38;5;28;01mreturn\u001b[39;00m space_remove(s[\u001b[32m1\u001b[39m:])\n\u001b[32m      7\u001b[39m \u001b[38;5;28;01melse\u001b[39;00m:\n\u001b[32m----> \u001b[39m\u001b[32m8\u001b[39m     \u001b[43ms\u001b[49m\u001b[43m[\u001b[49m\u001b[32;43m0\u001b[39;49m\u001b[43m]\u001b[49m\u001b[43m \u001b[49m\u001b[43m+\u001b[49m\u001b[43m \u001b[49m\u001b[43mspace_remove\u001b[49m\u001b[43m(\u001b[49m\u001b[43ms\u001b[49m\u001b[43m[\u001b[49m\u001b[32;43m1\u001b[39;49m\u001b[43m:\u001b[49m\u001b[43m]\u001b[49m\u001b[43m)\u001b[49m\n",
      "\u001b[31mTypeError\u001b[39m: can only concatenate str (not \"NoneType\") to str"
     ]
    }
   ],
   "source": [
    "def space_remove(s):\n",
    "    if s == \"\":\n",
    "        return \"\"\n",
    "    \n",
    "    if s[0] == \" \":\n",
    "        return space_remove(s[1:])\n",
    "    else:\n",
    "        return s[0] + space_remove(s[1:])\n",
    "\n",
    "print(space_remove(\"I love    Python\"))"
   ]
  },
  {
   "cell_type": "code",
   "execution_count": null,
   "id": "54b53bf8",
   "metadata": {},
   "outputs": [
    {
     "name": "stdout",
     "output_type": "stream",
     "text": [
      "220\n"
     ]
    }
   ],
   "source": [
    "def maximum(lst, i=0):\n",
    "    if i == len(lst)-1:\n",
    "        return 0\n",
    "    memo =lst[i] - lst[i+1], maximum(lst, i+1)\n",
    "    return max(lst[i] - lst[i+1], maximum(lst, i+1))\n",
    "\n",
    "l = [5, 10, 3, 20, 18]\n",
    "print(maximum(lst))"
   ]
  },
  {
   "cell_type": "code",
   "execution_count": 19,
   "id": "fa98cb26",
   "metadata": {},
   "outputs": [
    {
     "name": "stdout",
     "output_type": "stream",
     "text": [
      "23\n"
     ]
    }
   ],
   "source": [
    "def sum_dict(d, keys=None, i=0):\n",
    "    if keys == None:\n",
    "        keys = list(d.keys())\n",
    "    if i == len(keys):\n",
    "        return 0\n",
    "    return d[keys[i]] + sum_dict(d, keys, i + 1)\n",
    "\n",
    "dict = {\"apple\": 10, \"banana\": 5, \"orange\": 8}\n",
    "print(sum_dict(dict))"
   ]
  },
  {
   "cell_type": "code",
   "execution_count": 26,
   "id": "3ba9504e",
   "metadata": {},
   "outputs": [
    {
     "name": "stdout",
     "output_type": "stream",
     "text": [
      "[2, 0, 5]\n"
     ]
    }
   ],
   "source": [
    "def re_negative(lst, i=0, result=[]):\n",
    "    if i == len(lst):\n",
    "        return result\n",
    "    if not(lst[i] < 0):\n",
    "        result.append(lst[i])\n",
    "        return re_negative(lst, i+1, result)\n",
    "    else:\n",
    "        return re_negative(lst, i+1, result)\n",
    "    \n",
    "l = [2, -4, 0, -1, 5]\n",
    "print(re_negative(l))"
   ]
  },
  {
   "cell_type": "code",
   "execution_count": 32,
   "id": "d2b5b027",
   "metadata": {},
   "outputs": [
    {
     "name": "stdout",
     "output_type": "stream",
     "text": [
      "3\n"
     ]
    }
   ],
   "source": [
    "def sound(s):\n",
    "    l = \"aeiouAEIOU\"\n",
    "\n",
    "    if s == \"\":\n",
    "        return 0\n",
    "    \n",
    "    if s[0] in l:\n",
    "        count = 1\n",
    "    else:\n",
    "        count = 0\n",
    "    return count + sound(s[1:])\n",
    "    \n",
    "print(sound(\"Hello World\"))"
   ]
  }
 ],
 "metadata": {
  "kernelspec": {
   "display_name": "Python 3",
   "language": "python",
   "name": "python3"
  },
  "language_info": {
   "codemirror_mode": {
    "name": "ipython",
    "version": 3
   },
   "file_extension": ".py",
   "mimetype": "text/x-python",
   "name": "python",
   "nbconvert_exporter": "python",
   "pygments_lexer": "ipython3",
   "version": "3.13.3"
  }
 },
 "nbformat": 4,
 "nbformat_minor": 5
}
