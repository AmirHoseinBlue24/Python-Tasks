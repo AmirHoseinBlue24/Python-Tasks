{
 "cells": [
  {
   "cell_type": "markdown",
   "metadata": {},
   "source": [
    "**T1**"
   ]
  },
  {
   "cell_type": "code",
   "execution_count": 5,
   "metadata": {},
   "outputs": [
    {
     "name": "stdout",
     "output_type": "stream",
     "text": [
      "{'python': 1, 'created': 1, 'by': 1, 'rossum': 1, 'and': 1, 'hamed': 3}\n"
     ]
    }
   ],
   "source": [
    "s = \"python created by rossum and hamed hamed hamed\"\n",
    "count_word = {}\n",
    "\n",
    "def count():\n",
    "    x = s.split()\n",
    "    for i in x:\n",
    "        if i in count_word:\n",
    "            count_word[i] += 1\n",
    "        else:\n",
    "            count_word[i] = 1\n",
    "\n",
    "    return count_word\n",
    "\n",
    "print(count())"
   ]
  },
  {
   "cell_type": "markdown",
   "metadata": {},
   "source": [
    "**T2**"
   ]
  },
  {
   "cell_type": "code",
   "execution_count": 24,
   "metadata": {},
   "outputs": [
    {
     "name": "stdout",
     "output_type": "stream",
     "text": [
      "{'l': 3, 'u': 4}\n"
     ]
    }
   ],
   "source": [
    "text = \"FarSHiD\"\n",
    "count_dict = {\"l\":0, \"u\":0}\n",
    "\n",
    "def count():\n",
    "    for i in text:\n",
    "        if i.isupper():\n",
    "            count_dict[\"u\"] += 1\n",
    "        elif i.islower():\n",
    "            count_dict[\"l\"] += 1\n",
    "\n",
    "    return count_dict\n",
    "\n",
    "\n",
    "print(count())"
   ]
  },
  {
   "cell_type": "markdown",
   "metadata": {},
   "source": [
    "**T3**"
   ]
  },
  {
   "cell_type": "code",
   "execution_count": 11,
   "metadata": {},
   "outputs": [
    {
     "name": "stdout",
     "output_type": "stream",
     "text": [
      "{'a': 2, 'b': 3, 'c': 1, 'f': 1}\n"
     ]
    }
   ],
   "source": [
    "s = \"abbcfab\"\n",
    "count_leter = {}\n",
    "\n",
    "def count():\n",
    "    for i in s:\n",
    "        if i in count_leter:\n",
    "            count_leter[i] += 1\n",
    "        else:\n",
    "            count_leter[i] = 1\n",
    "\n",
    "    return count_leter\n",
    "\n",
    "print(count())"
   ]
  },
  {
   "cell_type": "markdown",
   "metadata": {},
   "source": [
    "**T4**"
   ]
  },
  {
   "cell_type": "code",
   "execution_count": null,
   "metadata": {},
   "outputs": [
    {
     "name": "stdout",
     "output_type": "stream",
     "text": [
      "{'id': 1, 'M': 60, 'F': 40}\n",
      "{'id': 2, 'M': 80, 'F': 70}\n",
      "{1: 50.0, 2: 75.0}\n"
     ]
    }
   ],
   "source": [
    "grade_student = [ \n",
    "    {'id': 1, 'M': 60, 'F': 40}, \n",
    "    {'id': 2, 'M': 80, 'F': 70}\n",
    "]\n",
    "avg_mark = {}\n",
    "\n",
    "def average():\n",
    "    for i in grade_student:\n",
    "        avg = (i['M'] + i['F']) / 2\n",
    "        avg_mark[i['id']] = avg \n",
    "    print(avg_mark)\n",
    "\n",
    "average()"
   ]
  },
  {
   "cell_type": "markdown",
   "metadata": {},
   "source": [
    "**T5**"
   ]
  },
  {
   "cell_type": "code",
   "execution_count": 21,
   "metadata": {},
   "outputs": [
    {
     "data": {
      "text/plain": [
       "True"
      ]
     },
     "execution_count": 21,
     "metadata": {},
     "output_type": "execute_result"
    }
   ],
   "source": [
    "def reverse_string(s):\n",
    "    return s[::-1] == s\n",
    "\n",
    "reverse_string(\"radar\")    "
   ]
  },
  {
   "cell_type": "markdown",
   "metadata": {},
   "source": [
    "**T6**"
   ]
  },
  {
   "cell_type": "code",
   "execution_count": null,
   "metadata": {},
   "outputs": [],
   "source": [
    "?"
   ]
  },
  {
   "cell_type": "markdown",
   "metadata": {},
   "source": [
    "**T8**"
   ]
  },
  {
   "cell_type": "code",
   "execution_count": null,
   "metadata": {},
   "outputs": [
    {
     "data": {
      "text/plain": [
       "[1, 2, 3, 4]"
      ]
     },
     "execution_count": 32,
     "metadata": {},
     "output_type": "execute_result"
    }
   ],
   "source": [
    "a = [1, 2, 3, 1, 4, 2]\n",
    "srt = []\n",
    "\n",
    "def sort():\n",
    "    srt = sorted(set(a))\n",
    "    return srt\n",
    "\n",
    "sort()"
   ]
  },
  {
   "cell_type": "markdown",
   "metadata": {},
   "source": [
    "**T9**"
   ]
  },
  {
   "cell_type": "code",
   "execution_count": 42,
   "metadata": {},
   "outputs": [
    {
     "name": "stdout",
     "output_type": "stream",
     "text": [
      "1\n",
      "2\n",
      "5\n"
     ]
    }
   ],
   "source": [
    "lst = 10\n",
    "\n",
    "def start():\n",
    "    for i in range(1, lst):\n",
    "        if lst % i == 0:\n",
    "            print(i)\n",
    "\n",
    "start()  "
   ]
  }
 ],
 "metadata": {
  "kernelspec": {
   "display_name": ".venv",
   "language": "python",
   "name": "python3"
  },
  "language_info": {
   "codemirror_mode": {
    "name": "ipython",
    "version": 3
   },
   "file_extension": ".py",
   "mimetype": "text/x-python",
   "name": "python",
   "nbconvert_exporter": "python",
   "pygments_lexer": "ipython3",
   "version": "3.11.5"
  }
 },
 "nbformat": 4,
 "nbformat_minor": 2
}
